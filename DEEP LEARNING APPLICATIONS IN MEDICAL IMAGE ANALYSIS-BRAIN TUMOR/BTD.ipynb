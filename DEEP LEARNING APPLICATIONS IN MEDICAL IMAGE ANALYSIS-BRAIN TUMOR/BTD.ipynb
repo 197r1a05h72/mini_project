{
 "cells": [
  {
   "cell_type": "code",
   "execution_count": 1,
   "metadata": {},
   "outputs": [],
   "source": [
    "import tensorflow as tf\n",
    "import keras\n",
    "from keras.models import Sequential\n",
    "from keras.layers import Conv2D\n",
    "from keras.layers import MaxPooling2D\n",
    "from keras.layers import Flatten\n",
    "from keras.layers import Dense"
   ]
  },
  {
   "cell_type": "code",
   "execution_count": 2,
   "metadata": {},
   "outputs": [],
   "source": [
    "classifier = Sequential()\n",
    "\n",
    "classifier.add(Conv2D(32, (3, 3), input_shape = (64, 64, 3), activation = 'relu'))"
   ]
  },
  {
   "cell_type": "code",
   "execution_count": 3,
   "metadata": {},
   "outputs": [
    {
     "name": "stdout",
     "output_type": "stream",
     "text": [
      "Model: \"sequential\"\n",
      "_________________________________________________________________\n",
      " Layer (type)                Output Shape              Param #   \n",
      "=================================================================\n",
      " conv2d (Conv2D)             (None, 62, 62, 32)        896       \n",
      "                                                                 \n",
      " max_pooling2d (MaxPooling2D  (None, 31, 31, 32)       0         \n",
      " )                                                               \n",
      "                                                                 \n",
      " conv2d_1 (Conv2D)           (None, 29, 29, 32)        9248      \n",
      "                                                                 \n",
      " max_pooling2d_1 (MaxPooling  (None, 14, 14, 32)       0         \n",
      " 2D)                                                             \n",
      "                                                                 \n",
      " flatten (Flatten)           (None, 6272)              0         \n",
      "                                                                 \n",
      " dense (Dense)               (None, 128)               802944    \n",
      "                                                                 \n",
      " dense_1 (Dense)             (None, 1)                 129       \n",
      "                                                                 \n",
      "=================================================================\n",
      "Total params: 813,217\n",
      "Trainable params: 813,217\n",
      "Non-trainable params: 0\n",
      "_________________________________________________________________\n"
     ]
    }
   ],
   "source": [
    "classifier.add(MaxPooling2D(pool_size = (2, 2)))\n",
    "\n",
    "classifier.add(Conv2D(32, (3, 3), activation = 'relu'))\n",
    "classifier.add(MaxPooling2D(pool_size = (2, 2)))\n",
    "\n",
    "classifier.add(Flatten())\n",
    "\n",
    "classifier.add(Dense(activation = 'relu',units=128))\n",
    "classifier.add(Dense(activation = 'sigmoid',units=1))\n",
    "\n",
    "classifier.compile(optimizer = 'adam', loss = 'binary_crossentropy', metrics = ['accuracy'])\n",
    "\n",
    "classifier.summary()"
   ]
  },
  {
   "cell_type": "code",
   "execution_count": 4,
   "metadata": {},
   "outputs": [],
   "source": [
    "from keras.preprocessing.image import ImageDataGenerator\n",
    "\n",
    "train_datagen = ImageDataGenerator(rescale = 1./255,\n",
    "                                   shear_range = 0.2,\n",
    "                                   zoom_range = 0.2,\n",
    "                                   horizontal_flip = True)\n",
    "\n",
    "test_datagen = ImageDataGenerator(rescale = 1./255)\n"
   ]
  },
  {
   "cell_type": "code",
   "execution_count": 5,
   "metadata": {},
   "outputs": [
    {
     "name": "stdout",
     "output_type": "stream",
     "text": [
      "C:\\Users\\niranjan reddy\\Desktop\\project\\DEEP LEARNING APPLICATIONS IN MEDICAL IMAGE ANALYSIS-BRAIN TUMOR\\TestImages\n"
     ]
    }
   ],
   "source": [
    "import os \n",
    "os.getcwd()\n",
    "os.chdir(r'C:\\Users\\niranjan reddy\\Desktop\\project\\DEEP LEARNING APPLICATIONS IN MEDICAL IMAGE ANALYSIS-BRAIN TUMOR\\TestImages')\n",
    "print(os.getcwd())"
   ]
  },
  {
   "cell_type": "code",
   "execution_count": 6,
   "metadata": {},
   "outputs": [
    {
     "name": "stdout",
     "output_type": "stream",
     "text": [
      "Found 23 images belonging to 2 classes.\n",
      "Found 7 images belonging to 2 classes.\n"
     ]
    }
   ],
   "source": [
    "training_set = train_datagen.flow_from_directory(r'C:\\Users\\niranjan reddy\\Desktop\\project\\DEEP LEARNING APPLICATIONS IN MEDICAL IMAGE ANALYSIS-BRAIN TUMOR\\Brain_tumor\\train',\n",
    "                                                 target_size = (64, 64),\n",
    "                                                 batch_size = 32,\n",
    "                                                 class_mode = 'binary')\n",
    "\n",
    "test_set = test_datagen.flow_from_directory(r'C:\\Users\\niranjan reddy\\Desktop\\project\\DEEP LEARNING APPLICATIONS IN MEDICAL IMAGE ANALYSIS-BRAIN TUMOR\\Brain_tumor\\test',\n",
    "                                            target_size = (64, 64),\n",
    "                                            batch_size = 32,\n",
    "                                            class_mode = 'binary')\n"
   ]
  },
  {
   "cell_type": "code",
   "execution_count": 7,
   "metadata": {},
   "outputs": [
    {
     "name": "stderr",
     "output_type": "stream",
     "text": [
      "<ipython-input-7-763760926340>:1: UserWarning: `Model.fit_generator` is deprecated and will be removed in a future version. Please use `Model.fit`, which supports generators.\n",
      "  classifier.fit_generator(training_set, steps_per_epoch=None, epochs=100, verbose=1, callbacks=None, validation_data=test_set, validation_steps=None, class_weight=None, max_queue_size=10, workers=1, use_multiprocessing=False, shuffle=True, initial_epoch=0)\n"
     ]
    },
    {
     "name": "stdout",
     "output_type": "stream",
     "text": [
      "Epoch 1/100\n",
      "1/1 [==============================] - 1s 1000ms/step - loss: 0.6933 - accuracy: 0.5217 - val_loss: 0.7325 - val_accuracy: 0.5714\n",
      "Epoch 2/100\n",
      "1/1 [==============================] - 0s 183ms/step - loss: 0.8002 - accuracy: 0.5652 - val_loss: 0.6638 - val_accuracy: 0.5714\n",
      "Epoch 3/100\n",
      "1/1 [==============================] - 0s 187ms/step - loss: 0.6788 - accuracy: 0.5652 - val_loss: 0.7119 - val_accuracy: 0.4286\n",
      "Epoch 4/100\n",
      "1/1 [==============================] - 0s 173ms/step - loss: 0.6800 - accuracy: 0.5217 - val_loss: 0.7177 - val_accuracy: 0.4286\n",
      "Epoch 5/100\n",
      "1/1 [==============================] - 0s 187ms/step - loss: 0.6838 - accuracy: 0.4348 - val_loss: 0.7050 - val_accuracy: 0.5714\n",
      "Epoch 6/100\n",
      "1/1 [==============================] - 0s 161ms/step - loss: 0.6743 - accuracy: 0.5652 - val_loss: 0.6947 - val_accuracy: 0.4286\n",
      "Epoch 7/100\n",
      "1/1 [==============================] - 0s 148ms/step - loss: 0.6589 - accuracy: 0.6522 - val_loss: 0.6852 - val_accuracy: 0.4286\n",
      "Epoch 8/100\n",
      "1/1 [==============================] - 0s 147ms/step - loss: 0.6471 - accuracy: 0.7391 - val_loss: 0.6761 - val_accuracy: 0.4286\n",
      "Epoch 9/100\n",
      "1/1 [==============================] - 0s 149ms/step - loss: 0.6270 - accuracy: 0.7826 - val_loss: 0.6746 - val_accuracy: 0.2857\n",
      "Epoch 10/100\n",
      "1/1 [==============================] - 0s 153ms/step - loss: 0.6273 - accuracy: 0.6087 - val_loss: 0.6772 - val_accuracy: 0.2857\n",
      "Epoch 11/100\n",
      "1/1 [==============================] - 0s 150ms/step - loss: 0.6106 - accuracy: 0.6957 - val_loss: 0.6882 - val_accuracy: 0.4286\n",
      "Epoch 12/100\n",
      "1/1 [==============================] - 0s 154ms/step - loss: 0.6063 - accuracy: 0.7391 - val_loss: 0.7097 - val_accuracy: 0.5714\n",
      "Epoch 13/100\n",
      "1/1 [==============================] - 0s 148ms/step - loss: 0.6063 - accuracy: 0.6087 - val_loss: 0.7338 - val_accuracy: 0.5714\n",
      "Epoch 14/100\n",
      "1/1 [==============================] - 0s 167ms/step - loss: 0.6211 - accuracy: 0.6522 - val_loss: 0.7685 - val_accuracy: 0.4286\n",
      "Epoch 15/100\n",
      "1/1 [==============================] - 0s 148ms/step - loss: 0.5698 - accuracy: 0.7826 - val_loss: 0.7901 - val_accuracy: 0.4286\n",
      "Epoch 16/100\n",
      "1/1 [==============================] - 0s 147ms/step - loss: 0.5667 - accuracy: 0.6957 - val_loss: 0.8114 - val_accuracy: 0.4286\n",
      "Epoch 17/100\n",
      "1/1 [==============================] - 0s 147ms/step - loss: 0.5471 - accuracy: 0.6957 - val_loss: 0.7955 - val_accuracy: 0.4286\n",
      "Epoch 18/100\n",
      "1/1 [==============================] - 0s 151ms/step - loss: 0.4423 - accuracy: 0.8696 - val_loss: 0.8167 - val_accuracy: 0.4286\n",
      "Epoch 19/100\n",
      "1/1 [==============================] - 0s 147ms/step - loss: 0.5597 - accuracy: 0.7391 - val_loss: 0.9417 - val_accuracy: 0.4286\n",
      "Epoch 20/100\n",
      "1/1 [==============================] - 0s 152ms/step - loss: 0.4977 - accuracy: 0.7826 - val_loss: 1.0775 - val_accuracy: 0.4286\n",
      "Epoch 21/100\n",
      "1/1 [==============================] - 0s 150ms/step - loss: 0.4692 - accuracy: 0.8696 - val_loss: 1.0417 - val_accuracy: 0.4286\n",
      "Epoch 22/100\n",
      "1/1 [==============================] - 0s 149ms/step - loss: 0.4801 - accuracy: 0.7391 - val_loss: 0.9481 - val_accuracy: 0.4286\n",
      "Epoch 23/100\n",
      "1/1 [==============================] - 0s 158ms/step - loss: 0.4556 - accuracy: 0.7391 - val_loss: 1.0354 - val_accuracy: 0.4286\n",
      "Epoch 24/100\n",
      "1/1 [==============================] - 0s 169ms/step - loss: 0.4203 - accuracy: 0.8261 - val_loss: 1.1998 - val_accuracy: 0.4286\n",
      "Epoch 25/100\n",
      "1/1 [==============================] - 0s 152ms/step - loss: 0.3508 - accuracy: 0.9130 - val_loss: 1.3582 - val_accuracy: 0.4286\n",
      "Epoch 26/100\n",
      "1/1 [==============================] - 0s 145ms/step - loss: 0.4842 - accuracy: 0.7826 - val_loss: 1.2024 - val_accuracy: 0.4286\n",
      "Epoch 27/100\n",
      "1/1 [==============================] - 0s 152ms/step - loss: 0.3246 - accuracy: 0.9130 - val_loss: 1.0356 - val_accuracy: 0.4286\n",
      "Epoch 28/100\n",
      "1/1 [==============================] - 0s 160ms/step - loss: 0.3378 - accuracy: 0.7826 - val_loss: 1.0282 - val_accuracy: 0.5714\n",
      "Epoch 29/100\n",
      "1/1 [==============================] - 0s 175ms/step - loss: 0.4598 - accuracy: 0.7391 - val_loss: 1.2771 - val_accuracy: 0.4286\n",
      "Epoch 30/100\n",
      "1/1 [==============================] - 0s 156ms/step - loss: 0.3482 - accuracy: 0.8261 - val_loss: 1.6110 - val_accuracy: 0.4286\n",
      "Epoch 31/100\n",
      "1/1 [==============================] - 0s 150ms/step - loss: 0.3699 - accuracy: 0.8261 - val_loss: 1.5690 - val_accuracy: 0.4286\n",
      "Epoch 32/100\n",
      "1/1 [==============================] - 0s 151ms/step - loss: 0.3441 - accuracy: 0.8696 - val_loss: 1.3145 - val_accuracy: 0.4286\n",
      "Epoch 33/100\n",
      "1/1 [==============================] - 0s 165ms/step - loss: 0.2928 - accuracy: 0.9130 - val_loss: 1.1258 - val_accuracy: 0.5714\n",
      "Epoch 34/100\n",
      "1/1 [==============================] - 0s 155ms/step - loss: 0.2663 - accuracy: 0.9130 - val_loss: 1.1108 - val_accuracy: 0.5714\n",
      "Epoch 35/100\n",
      "1/1 [==============================] - 0s 174ms/step - loss: 0.2393 - accuracy: 0.9130 - val_loss: 1.2443 - val_accuracy: 0.5714\n",
      "Epoch 36/100\n",
      "1/1 [==============================] - 0s 157ms/step - loss: 0.2143 - accuracy: 0.9565 - val_loss: 1.4512 - val_accuracy: 0.4286\n",
      "Epoch 37/100\n",
      "1/1 [==============================] - 0s 176ms/step - loss: 0.3197 - accuracy: 0.8261 - val_loss: 1.6249 - val_accuracy: 0.4286\n",
      "Epoch 38/100\n",
      "1/1 [==============================] - 0s 172ms/step - loss: 0.2535 - accuracy: 0.9130 - val_loss: 1.6593 - val_accuracy: 0.4286\n",
      "Epoch 39/100\n",
      "1/1 [==============================] - 0s 159ms/step - loss: 0.1962 - accuracy: 0.9565 - val_loss: 1.5534 - val_accuracy: 0.5714\n",
      "Epoch 40/100\n",
      "1/1 [==============================] - 0s 154ms/step - loss: 0.2602 - accuracy: 0.9130 - val_loss: 1.3912 - val_accuracy: 0.5714\n",
      "Epoch 41/100\n",
      "1/1 [==============================] - 0s 157ms/step - loss: 0.2255 - accuracy: 0.9130 - val_loss: 1.3324 - val_accuracy: 0.5714\n",
      "Epoch 42/100\n",
      "1/1 [==============================] - 0s 155ms/step - loss: 0.1906 - accuracy: 0.9565 - val_loss: 1.3904 - val_accuracy: 0.5714\n",
      "Epoch 43/100\n",
      "1/1 [==============================] - 0s 171ms/step - loss: 0.1244 - accuracy: 0.9565 - val_loss: 1.6080 - val_accuracy: 0.5714\n",
      "Epoch 44/100\n",
      "1/1 [==============================] - 0s 163ms/step - loss: 0.2349 - accuracy: 0.8696 - val_loss: 1.6876 - val_accuracy: 0.5714\n",
      "Epoch 45/100\n",
      "1/1 [==============================] - 0s 164ms/step - loss: 0.1718 - accuracy: 0.9565 - val_loss: 1.6430 - val_accuracy: 0.5714\n",
      "Epoch 46/100\n",
      "1/1 [==============================] - 0s 150ms/step - loss: 0.2815 - accuracy: 0.8696 - val_loss: 1.4617 - val_accuracy: 0.5714\n",
      "Epoch 47/100\n",
      "1/1 [==============================] - 0s 156ms/step - loss: 0.2388 - accuracy: 0.8696 - val_loss: 1.3672 - val_accuracy: 0.5714\n",
      "Epoch 48/100\n",
      "1/1 [==============================] - 0s 198ms/step - loss: 0.1889 - accuracy: 0.9565 - val_loss: 1.4134 - val_accuracy: 0.5714\n",
      "Epoch 49/100\n",
      "1/1 [==============================] - 0s 147ms/step - loss: 0.1950 - accuracy: 0.9565 - val_loss: 1.7221 - val_accuracy: 0.5714\n",
      "Epoch 50/100\n",
      "1/1 [==============================] - 0s 151ms/step - loss: 0.1659 - accuracy: 0.9565 - val_loss: 1.6838 - val_accuracy: 0.5714\n",
      "Epoch 51/100\n",
      "1/1 [==============================] - 0s 145ms/step - loss: 0.2304 - accuracy: 0.9130 - val_loss: 1.4205 - val_accuracy: 0.5714\n",
      "Epoch 52/100\n",
      "1/1 [==============================] - 0s 147ms/step - loss: 0.1302 - accuracy: 1.0000 - val_loss: 1.4595 - val_accuracy: 0.4286\n",
      "Epoch 53/100\n",
      "1/1 [==============================] - 0s 165ms/step - loss: 0.2072 - accuracy: 0.8696 - val_loss: 1.4160 - val_accuracy: 0.5714\n",
      "Epoch 54/100\n",
      "1/1 [==============================] - 0s 176ms/step - loss: 0.3047 - accuracy: 0.9130 - val_loss: 1.5595 - val_accuracy: 0.5714\n",
      "Epoch 55/100\n",
      "1/1 [==============================] - 0s 224ms/step - loss: 0.1164 - accuracy: 0.9565 - val_loss: 2.0781 - val_accuracy: 0.4286\n",
      "Epoch 56/100\n",
      "1/1 [==============================] - 0s 169ms/step - loss: 0.2362 - accuracy: 0.8696 - val_loss: 2.1672 - val_accuracy: 0.4286\n",
      "Epoch 57/100\n",
      "1/1 [==============================] - 0s 175ms/step - loss: 0.1641 - accuracy: 1.0000 - val_loss: 1.9031 - val_accuracy: 0.5714\n",
      "Epoch 58/100\n",
      "1/1 [==============================] - 0s 177ms/step - loss: 0.2410 - accuracy: 0.9130 - val_loss: 1.6426 - val_accuracy: 0.5714\n"
     ]
    },
    {
     "name": "stdout",
     "output_type": "stream",
     "text": [
      "Epoch 59/100\n",
      "1/1 [==============================] - 0s 181ms/step - loss: 0.1945 - accuracy: 0.9130 - val_loss: 1.4221 - val_accuracy: 0.5714\n",
      "Epoch 60/100\n",
      "1/1 [==============================] - 0s 194ms/step - loss: 0.2103 - accuracy: 0.8696 - val_loss: 1.4205 - val_accuracy: 0.4286\n",
      "Epoch 61/100\n",
      "1/1 [==============================] - 0s 176ms/step - loss: 0.2856 - accuracy: 0.9130 - val_loss: 1.4034 - val_accuracy: 0.4286\n",
      "Epoch 62/100\n",
      "1/1 [==============================] - 0s 226ms/step - loss: 0.2088 - accuracy: 0.9130 - val_loss: 1.4021 - val_accuracy: 0.5714\n",
      "Epoch 63/100\n",
      "1/1 [==============================] - 0s 171ms/step - loss: 0.1436 - accuracy: 0.9565 - val_loss: 1.5486 - val_accuracy: 0.5714\n",
      "Epoch 64/100\n",
      "1/1 [==============================] - 0s 195ms/step - loss: 0.1420 - accuracy: 0.9565 - val_loss: 1.7881 - val_accuracy: 0.5714\n",
      "Epoch 65/100\n",
      "1/1 [==============================] - 0s 179ms/step - loss: 0.1704 - accuracy: 0.9130 - val_loss: 1.9943 - val_accuracy: 0.4286\n",
      "Epoch 66/100\n",
      "1/1 [==============================] - 0s 166ms/step - loss: 0.3072 - accuracy: 0.8696 - val_loss: 1.8642 - val_accuracy: 0.4286\n",
      "Epoch 67/100\n",
      "1/1 [==============================] - 0s 151ms/step - loss: 0.2432 - accuracy: 0.9565 - val_loss: 1.5989 - val_accuracy: 0.5714\n",
      "Epoch 68/100\n",
      "1/1 [==============================] - 0s 179ms/step - loss: 0.0928 - accuracy: 0.9565 - val_loss: 1.4293 - val_accuracy: 0.2857\n",
      "Epoch 69/100\n",
      "1/1 [==============================] - 0s 170ms/step - loss: 0.1118 - accuracy: 0.9565 - val_loss: 1.5824 - val_accuracy: 0.5714\n",
      "Epoch 70/100\n",
      "1/1 [==============================] - 0s 162ms/step - loss: 0.1478 - accuracy: 0.9565 - val_loss: 1.6942 - val_accuracy: 0.5714\n",
      "Epoch 71/100\n",
      "1/1 [==============================] - 0s 158ms/step - loss: 0.2884 - accuracy: 0.8261 - val_loss: 1.4704 - val_accuracy: 0.4286\n",
      "Epoch 72/100\n",
      "1/1 [==============================] - 0s 144ms/step - loss: 0.1294 - accuracy: 1.0000 - val_loss: 1.5154 - val_accuracy: 0.5714\n",
      "Epoch 73/100\n",
      "1/1 [==============================] - 0s 143ms/step - loss: 0.1505 - accuracy: 0.9565 - val_loss: 1.6656 - val_accuracy: 0.5714\n",
      "Epoch 74/100\n",
      "1/1 [==============================] - 0s 162ms/step - loss: 0.1582 - accuracy: 0.9565 - val_loss: 1.7619 - val_accuracy: 0.5714\n",
      "Epoch 75/100\n",
      "1/1 [==============================] - 0s 151ms/step - loss: 0.1599 - accuracy: 0.9565 - val_loss: 1.7803 - val_accuracy: 0.5714\n",
      "Epoch 76/100\n",
      "1/1 [==============================] - 0s 168ms/step - loss: 0.1476 - accuracy: 0.9130 - val_loss: 1.7508 - val_accuracy: 0.5714\n",
      "Epoch 77/100\n",
      "1/1 [==============================] - 0s 219ms/step - loss: 0.1556 - accuracy: 0.9565 - val_loss: 1.6922 - val_accuracy: 0.5714\n",
      "Epoch 78/100\n",
      "1/1 [==============================] - 0s 160ms/step - loss: 0.1750 - accuracy: 0.9565 - val_loss: 1.7511 - val_accuracy: 0.5714\n",
      "Epoch 79/100\n",
      "1/1 [==============================] - 0s 145ms/step - loss: 0.2126 - accuracy: 0.8696 - val_loss: 1.8656 - val_accuracy: 0.5714\n",
      "Epoch 80/100\n",
      "1/1 [==============================] - 0s 153ms/step - loss: 0.1121 - accuracy: 1.0000 - val_loss: 1.9652 - val_accuracy: 0.5714\n",
      "Epoch 81/100\n",
      "1/1 [==============================] - 0s 172ms/step - loss: 0.1126 - accuracy: 0.9565 - val_loss: 2.0613 - val_accuracy: 0.5714\n",
      "Epoch 82/100\n",
      "1/1 [==============================] - 0s 167ms/step - loss: 0.1776 - accuracy: 0.9565 - val_loss: 2.0170 - val_accuracy: 0.5714\n",
      "Epoch 83/100\n",
      "1/1 [==============================] - 0s 155ms/step - loss: 0.0797 - accuracy: 0.9565 - val_loss: 2.0049 - val_accuracy: 0.5714\n",
      "Epoch 84/100\n",
      "1/1 [==============================] - 0s 160ms/step - loss: 0.0799 - accuracy: 1.0000 - val_loss: 1.9824 - val_accuracy: 0.5714\n",
      "Epoch 85/100\n",
      "1/1 [==============================] - 0s 148ms/step - loss: 0.0732 - accuracy: 1.0000 - val_loss: 1.9910 - val_accuracy: 0.5714\n",
      "Epoch 86/100\n",
      "1/1 [==============================] - 0s 146ms/step - loss: 0.0822 - accuracy: 0.9565 - val_loss: 2.0229 - val_accuracy: 0.5714\n",
      "Epoch 87/100\n",
      "1/1 [==============================] - 0s 149ms/step - loss: 0.1122 - accuracy: 0.9130 - val_loss: 2.0916 - val_accuracy: 0.5714\n",
      "Epoch 88/100\n",
      "1/1 [==============================] - 0s 148ms/step - loss: 0.1171 - accuracy: 0.9565 - val_loss: 2.1946 - val_accuracy: 0.5714\n",
      "Epoch 89/100\n",
      "1/1 [==============================] - 0s 158ms/step - loss: 0.1500 - accuracy: 0.9565 - val_loss: 2.1748 - val_accuracy: 0.5714\n",
      "Epoch 90/100\n",
      "1/1 [==============================] - 0s 145ms/step - loss: 0.1092 - accuracy: 0.9130 - val_loss: 2.1221 - val_accuracy: 0.5714\n",
      "Epoch 91/100\n",
      "1/1 [==============================] - 0s 142ms/step - loss: 0.0967 - accuracy: 0.9565 - val_loss: 2.0561 - val_accuracy: 0.5714\n",
      "Epoch 92/100\n",
      "1/1 [==============================] - 0s 150ms/step - loss: 0.0645 - accuracy: 0.9565 - val_loss: 1.9727 - val_accuracy: 0.4286\n",
      "Epoch 93/100\n",
      "1/1 [==============================] - 0s 146ms/step - loss: 0.1251 - accuracy: 0.9565 - val_loss: 1.9574 - val_accuracy: 0.4286\n",
      "Epoch 94/100\n",
      "1/1 [==============================] - 0s 147ms/step - loss: 0.0869 - accuracy: 0.9565 - val_loss: 1.9935 - val_accuracy: 0.4286\n",
      "Epoch 95/100\n",
      "1/1 [==============================] - 0s 145ms/step - loss: 0.0442 - accuracy: 1.0000 - val_loss: 2.0597 - val_accuracy: 0.5714\n",
      "Epoch 96/100\n",
      "1/1 [==============================] - 0s 149ms/step - loss: 0.0830 - accuracy: 0.9565 - val_loss: 2.2331 - val_accuracy: 0.5714\n",
      "Epoch 97/100\n",
      "1/1 [==============================] - 0s 178ms/step - loss: 0.0985 - accuracy: 0.9565 - val_loss: 2.3410 - val_accuracy: 0.5714\n",
      "Epoch 98/100\n",
      "1/1 [==============================] - 0s 163ms/step - loss: 0.0791 - accuracy: 0.9130 - val_loss: 2.2989 - val_accuracy: 0.5714\n",
      "Epoch 99/100\n",
      "1/1 [==============================] - 0s 163ms/step - loss: 0.0867 - accuracy: 0.9565 - val_loss: 2.2236 - val_accuracy: 0.5714\n",
      "Epoch 100/100\n",
      "1/1 [==============================] - 0s 156ms/step - loss: 0.0928 - accuracy: 0.9565 - val_loss: 2.2153 - val_accuracy: 0.5714\n"
     ]
    },
    {
     "data": {
      "text/plain": [
       "<keras.callbacks.History at 0x1bbd12b0190>"
      ]
     },
     "execution_count": 7,
     "metadata": {},
     "output_type": "execute_result"
    }
   ],
   "source": [
    "classifier.fit_generator(training_set, steps_per_epoch=None, epochs=100, verbose=1, callbacks=None, validation_data=test_set, validation_steps=None, class_weight=None, max_queue_size=10, workers=1, use_multiprocessing=False, shuffle=True, initial_epoch=0)\n",
    "     "
   ]
  },
  {
   "cell_type": "code",
   "execution_count": 8,
   "metadata": {},
   "outputs": [
    {
     "data": {
      "image/png": "[encoded data removed]",
      "text/plain": [
       "<PIL.Image.Image image mode=RGB size=64x64 at 0x1BBD85455B0>"
      ]
     },
     "execution_count": 8,
     "metadata": {},
     "output_type": "execute_result"
    }
   ],
   "source": [
    "import numpy as np\n",
    "from keras.preprocessing import image\n",
    "import keras\n",
    "test_image = keras.utils.load_img(r'C:\\Users\\niranjan reddy\\Desktop\\project\\DEEP LEARNING APPLICATIONS IN MEDICAL IMAGE ANALYSIS-BRAIN TUMOR\\TestImages\\MR-UiO_None.jpg', target_size = (64, 64))\n",
    "test_image"
   ]
  },
  {
   "cell_type": "code",
   "execution_count": 9,
   "metadata": {},
   "outputs": [
    {
     "data": {
      "text/plain": [
       "array([[[[0., 0., 0.],\n",
       "         [0., 0., 0.],\n",
       "         [0., 0., 0.],\n",
       "         ...,\n",
       "         [0., 0., 0.],\n",
       "         [0., 0., 0.],\n",
       "         [0., 0., 0.]],\n",
       "\n",
       "        [[0., 0., 0.],\n",
       "         [0., 0., 0.],\n",
       "         [0., 0., 0.],\n",
       "         ...,\n",
       "         [0., 0., 0.],\n",
       "         [0., 0., 0.],\n",
       "         [0., 0., 0.]],\n",
       "\n",
       "        [[0., 0., 0.],\n",
       "         [0., 0., 0.],\n",
       "         [0., 0., 0.],\n",
       "         ...,\n",
       "         [0., 0., 0.],\n",
       "         [0., 0., 0.],\n",
       "         [0., 0., 0.]],\n",
       "\n",
       "        ...,\n",
       "\n",
       "        [[0., 0., 0.],\n",
       "         [0., 0., 0.],\n",
       "         [0., 0., 0.],\n",
       "         ...,\n",
       "         [0., 0., 0.],\n",
       "         [0., 0., 0.],\n",
       "         [0., 0., 0.]],\n",
       "\n",
       "        [[0., 0., 0.],\n",
       "         [0., 0., 0.],\n",
       "         [0., 0., 0.],\n",
       "         ...,\n",
       "         [0., 0., 0.],\n",
       "         [0., 0., 0.],\n",
       "         [0., 0., 0.]],\n",
       "\n",
       "        [[0., 0., 0.],\n",
       "         [0., 0., 0.],\n",
       "         [0., 0., 0.],\n",
       "         ...,\n",
       "         [0., 0., 0.],\n",
       "         [0., 0., 0.],\n",
       "         [0., 0., 0.]]]], dtype=float32)"
      ]
     },
     "execution_count": 9,
     "metadata": {},
     "output_type": "execute_result"
    }
   ],
   "source": [
    "test_image =  keras.utils.img_to_array(test_image)\n",
    "\n",
    "test_image = np.expand_dims(test_image, axis = 0)\n",
    "test_image"
   ]
  },
  {
   "cell_type": "code",
   "execution_count": 10,
   "metadata": {},
   "outputs": [
    {
     "name": "stdout",
     "output_type": "stream",
     "text": [
      "1/1 [==============================] - 0s 91ms/step\n"
     ]
    },
    {
     "data": {
      "text/plain": [
       "array([[0.]], dtype=float32)"
      ]
     },
     "execution_count": 10,
     "metadata": {},
     "output_type": "execute_result"
    }
   ],
   "source": [
    "result = classifier.predict(test_image)\n",
    "result"
   ]
  },
  {
   "cell_type": "code",
   "execution_count": 11,
   "metadata": {},
   "outputs": [
    {
     "data": {
      "text/plain": [
       "{'Benign': 0, 'Malignant': 1}"
      ]
     },
     "execution_count": 11,
     "metadata": {},
     "output_type": "execute_result"
    }
   ],
   "source": [
    "training_set.class_indices"
   ]
  },
  {
   "cell_type": "code",
   "execution_count": 12,
   "metadata": {},
   "outputs": [
    {
     "name": "stdout",
     "output_type": "stream",
     "text": [
      "Detected tumor type is Benign\n"
     ]
    }
   ],
   "source": [
    "if result[0][0] == 0:\n",
    "    prediction = 'Benign'\n",
    "else:\n",
    "    prediction = 'Malignent'\n",
    "print(\"Detected tumor type is %s\"%prediction)\n"
   ]
  },
  {
   "cell_type": "code",
   "execution_count": null,
   "metadata": {},
   "outputs": [],
   "source": []
  },
  {
   "cell_type": "code",
   "execution_count": null,
   "metadata": {},
   "outputs": [],
   "source": []
  },
  {
   "cell_type": "code",
   "execution_count": null,
   "metadata": {},
   "outputs": [],
   "source": []
  }
 ],
 "metadata": {
  "kernelspec": {
   "display_name": "Python 3",
   "language": "python",
   "name": "python3"
  },
  "language_info": {
   "codemirror_mode": {
    "name": "ipython",
    "version": 3
   },
   "file_extension": ".py",
   "mimetype": "text/x-python",
   "name": "python",
   "nbconvert_exporter": "python",
   "pygments_lexer": "ipython3",
   "version": "3.8.8"
  }
 },
 "nbformat": 4,
 "nbformat_minor": 2
}
